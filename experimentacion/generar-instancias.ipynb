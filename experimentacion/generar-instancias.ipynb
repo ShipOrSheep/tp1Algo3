{
 "cells": [
  {
   "cell_type": "markdown",
   "metadata": {},
   "source": [
    "# Generador de instancias\n",
    "En este notebook está el código para generar los sets de instancias que se usan para experimentar.\n",
    "- Estas instancias van a ser guardadas en la carpeta __instancias__.\n",
    "- Cada set estará en su propia carpeta y tendrá un archivo _indice.csv_ que contendrá información sobre las instancias."
   ]
  },
  {
   "cell_type": "code",
   "execution_count": 1,
   "metadata": {},
   "outputs": [],
   "source": [
    "import random, math\n",
    "import pandas as pd"
   ]
  },
  {
   "cell_type": "code",
   "execution_count": 2,
   "metadata": {},
   "outputs": [],
   "source": [
    "def save_instance(dataset, instance_name, R, w, r):\n",
    "    with open(f\"instancias/{dataset}/{instance_name}.txt\", \"w\") as f:\n",
    "        n = len(w)\n",
    "        print(n, R, file=f)\n",
    "        for i in range(n): \n",
    "            print(w[i], r[i] , file=f, end=\" \")\n",
    "            \n",
    "def save_index(dataset, instances):\n",
    "    f\"instancias/{dataset}/instances.txt\"\n",
    "    with open(f\"instancias/{dataset}/instances.txt\", \"w\") as f:\n",
    "        for instance in instances: \n",
    "            print(instance, file=f)"
   ]
  },
  {
   "cell_type": "markdown",
   "metadata": {},
   "source": [
    "## Dataset 1\n",
    "Instancias de mejor caso de backtracking, se encuentra la solución rápidamente sin revisar la mayoria del árbol. \n",
    "```\n",
    "Todos los elementos iguales. Solo entra en el tubo un elemento de la cinta.\n",
    "```"
   ]
  },
  {
   "cell_type": "code",
   "execution_count": 10,
   "metadata": {},
   "outputs": [],
   "source": [
    "filas_indice = []\n",
    "for n in range(1, 31):\n",
    "    R = n\n",
    "    r = [R for i in range(0, n)]\n",
    "    w = [R for i in range(0, n)]\n",
    "    save_instance(\"mejor-caso-bt\", F\"BT-MC-{n}\", R, w, r)\n",
    "    filas_indice.append([\"mejor-caso-bt\", F\"BT-MC-{n}\", n, R, F\"instancias/mejor-caso-bt/BT-MC-{n}.txt\"])\n",
    "pd.DataFrame(filas_indice, columns=[\"dataset\", \"instancia\", \"n\", \"R\", \"archivo\"]).to_csv(\"instancias/mejor-caso-bt/indice.csv\", index=False, header=True)"
   ]
  },
  {
   "cell_type": "markdown",
   "metadata": {},
   "source": [
    "## Dataset 2\n",
    "Instancias de peor caso de backtracking, deben recorrer todo el árbol y todas las ramas. No aplica ninguna poda y ningun elemento se rompe dentro del tubo.\n",
    "```\n",
    "Para todo elemento i, r[i] > R, y w[i] = 1.\n",
    "```"
   ]
  },
  {
   "cell_type": "code",
   "execution_count": 11,
   "metadata": {},
   "outputs": [],
   "source": [
    "filas_indice = []\n",
    "for n in range(1, 31):\n",
    "    R = n\n",
    "    r = [R+1 for i in range(0, n)]\n",
    "    w = [1 for i in range(0, n)]\n",
    "    save_instance(\"peor-caso-bt\", F\"BT-PC-{n}\", R, w, r)\n",
    "    filas_indice.append([\"peor-caso-bt\", F\"BT-PC-{n}\", n, R, F\"instancias/peor-caso-bt/BT-PC-{n}.txt\"])\n",
    "pd.DataFrame(filas_indice, columns=[\"dataset\", \"instancia\", \"n\", \"R\", \"archivo\"]).to_csv(\"instancias/peor-caso-bt/indice.csv\", index=False, header=True)"
   ]
  },
  {
   "cell_type": "markdown",
   "metadata": {},
   "source": [
    "## Dataset 3\n",
    "Instancias con densidad alta, devuelven k óptimo alto:\n",
    "```\n",
    "Para todo elemento i, r[i] = 10*i, y w[i] = i + (i mod 10). Usaremos R = n * 5. El orden de los productos en la cinta será aleatorio. \n",
    "```"
   ]
  },
  {
   "cell_type": "code",
   "execution_count": 14,
   "metadata": {},
   "outputs": [],
   "source": [
    "filas_indice = []\n",
    "for n in range(1, 31):\n",
    "    R = n * (n-1) / 4\n",
    "    r = [i * 10 for i in range(0, n)]\n",
    "    w = [i + (i % 10) for i in range(0, n)]\n",
    "    random.shuffle(r)\n",
    "    random.shuffle(w)\n",
    "    save_instance(\"densidad-alta\", F\"ALTA-{n}\", R, w, r)\n",
    "    filas_indice.append([\"densidad-alta\", F\"ALTA-{n}\", n, R, F\"instancias/densidad-alta/ALTA-{n}.txt\"])\n",
    "pd.DataFrame(filas_indice, columns=[\"dataset\", \"instancia\", \"n\", \"R\", \"archivo\"]).to_csv(\"instancias/densidad-alta/indice.csv\", index=False, header=True)"
   ]
  },
  {
   "cell_type": "markdown",
   "metadata": {},
   "source": [
    "## Dataset 4\n",
    "Instancias con densidad baja, devuelven k óptimo bajo:\n",
    "```\n",
    "Para todo elemento i, r[i] = i, y w[i] = 1 + (i mod 10). Usaremos R = n. El orden de los productos en la cinta será aleatorio. \n",
    "```"
   ]
  },
  {
   "cell_type": "code",
   "execution_count": 15,
   "metadata": {},
   "outputs": [],
   "source": [
    "filas_indice = []\n",
    "for n in range(1, 31):\n",
    "    R = n\n",
    "    r = [i for i in range(0, n)]\n",
    "    w = [1 + (i % 10) for i in range(0, n)]\n",
    "    random.shuffle(r)\n",
    "    random.shuffle(w)\n",
    "    save_instance(\"densidad-baja\", F\"BAJA-{n}\", R, w, r)\n",
    "    filas_indice.append([\"densidad-baja\", F\"BAJA-{n}\", n, R, F\"instancias/densidad-baja/BAJA-{n}.txt\"])\n",
    "pd.DataFrame(filas_indice, columns=[\"dataset\", \"instancia\", \"n\", \"R\", \"archivo\"]).to_csv(\"instancias/densidad-baja/indice.csv\", index=False, header=True)"
   ]
  },
  {
   "cell_type": "markdown",
   "metadata": {},
   "source": [
    "# Dataset 5\n",
    "Instancias variando n y R. Con resistencias individuales aleatorias."
   ]
  },
  {
   "cell_type": "code",
   "execution_count": 25,
   "metadata": {},
   "outputs": [],
   "source": [
    "filas_indice = []\n",
    "for n in range(100, 800, 50):\n",
    "    for R in range(100, 800, 50):\n",
    "        r = [i for i in range(0, n)]\n",
    "        w = [1 for i in range(0, n)]\n",
    "        random.shuffle(r)\n",
    "        save_instance(\"dinamica\", F\"DP-{n}-{R}\", R, w, r)\n",
    "        filas_indice.append([\"dinamica\", F\"DP-{n}-{R}\", n, R, F\"instancias/dinamica/DP-{n}-{R}.txt\"])\n",
    "pd.DataFrame(filas_indice, columns=[\"dataset\", \"instancia\", \"n\", \"R\", \"archivo\"]).to_csv(\"instancias/dinamica/indice.csv\", index=False, header=True)"
   ]
  },
  {
   "cell_type": "markdown",
   "metadata": {},
   "source": [
    "# Dataset 6\n",
    "Instancias con r[i] grande, que ninguna triggeree la poda por factibilidad. Ademas, los w[i] van a permitir utilizar la memoizacion."
   ]
  },
  {
   "cell_type": "code",
   "execution_count": 26,
   "metadata": {},
   "outputs": [],
   "source": [
    "filas_indice = []\n",
    "for n in range(1, 31):\n",
    "    w = [i + (i % 10) for i in range(0, n)]\n",
    "    sumaDePesosTotal = 0\n",
    "    for wi in w:\n",
    "        sumaDePesosTotal = sumaDePesosTotal + wi\n",
    "    r = [(sumaDePesosTotal+10) for i in range(0, n)]\n",
    "    R = sumaDePesosTotal+10\n",
    "    random.shuffle(w)\n",
    "    save_instance(\"resistencia-infinita\", F\"resInf-{n}\", R, w, r)\n",
    "    filas_indice.append([\"resistencia-infinita\", F\"resInf-{n}\", n, R, F\"instancias/densidad-alta/resInf-{n}.txt\"])\n",
    "pd.DataFrame(filas_indice, columns=[\"dataset\", \"instancia\", \"n\", \"R\", \"archivo\"]).to_csv(\"instancias/resistencia-infinita/indice.csv\", index=False, header=True)"
   ]
  }
 ],
 "metadata": {
  "kernelspec": {
   "display_name": "Python 3",
   "language": "python",
   "name": "python3"
  },
  "language_info": {
   "codemirror_mode": {
    "name": "ipython",
    "version": 3
   },
   "file_extension": ".py",
   "mimetype": "text/x-python",
   "name": "python",
   "nbconvert_exporter": "python",
   "pygments_lexer": "ipython3",
   "version": "3.7.5"
  }
 },
 "nbformat": 4,
 "nbformat_minor": 4
}
