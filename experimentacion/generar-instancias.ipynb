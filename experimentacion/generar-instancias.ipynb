{
 "cells": [
  {
   "cell_type": "markdown",
   "metadata": {},
   "source": [
    "# Generador de instancias\n",
    "En este notebook está el código para generar los sets de instancias que se usan para experimentar.\n",
    "- Estas instancias van a ser guardadas en la carpeta __instancias__.\n",
    "- Cada set estará en su propia carpeta y tendrá un archivo _indice.csv_ que contendrá información sobre las instancias."
   ]
  },
  {
   "cell_type": "code",
   "execution_count": 1,
   "metadata": {},
   "outputs": [],
   "source": [
    "import random, math\n",
    "import pandas as pd"
   ]
  },
  {
   "cell_type": "code",
   "execution_count": 5,
   "metadata": {},
   "outputs": [],
   "source": [
    "def save_instance(dataset, instance_name, R, w, r):\n",
    "    with open(f\"instancias/{dataset}/{instance_name}.txt\", \"w\") as f:\n",
    "        n = len(w)\n",
    "        print(n, R, file=f)\n",
    "        for i in range(n): \n",
    "            print(w[i], r[i] , file=f, end=\" \")\n",
    "            \n",
    "def save_index(dataset, instances):\n",
    "    f\"instancias/{dataset}/instances.txt\"\n",
    "    with open(f\"instancias/{dataset}/instances.txt\", \"w\") as f:\n",
    "        for instance in instances: \n",
    "            print(instance, file=f)"
   ]
  },
  {
   "cell_type": "markdown",
   "metadata": {},
   "source": [
    "## Dataset 1\n",
    "Instancias de mejor caso de backtracking, se encuentra la solución rápidamente sin revisar la mayoria del árbol. Para ello generamos una rama optima facil de encontrar que haga que se aplique la poda de optimalidad en todos los casos.\n",
    "```\n",
    "Para todo elemento i, r[i] > R, w[i] = 1, y w[-1]=R.\n",
    "```"
   ]
  },
  {
   "cell_type": "code",
   "execution_count": 6,
   "metadata": {},
   "outputs": [],
   "source": [
    "filas_indice = []\n",
    "for i in range(1, 1001):\n",
    "    n = i * 10\n",
    "    R = 1000\n",
    "    r = [R+1 for i in range(0, n)]\n",
    "    w = [1 for i in range(0, n)]\n",
    "    w[-1] = R\n",
    "    save_instance(\"mejor-caso-bt\", F\"BT-MC-{n}\", R, w, r)\n",
    "    filas_indice.append([\"mejor-caso-bt\", F\"BT-MC-{n}\", n, R, F\"instancias/mejor-caso-bt/BT-MC-{n}.txt\"])\n",
    "pd.DataFrame(filas_indice, columns=[\"dataset\", \"instancia\", \"n\", \"R\", \"archivo\"]).to_csv(\"instancias/mejor-caso-bt/indice.csv\", index=False, header=True)"
   ]
  },
  {
   "cell_type": "markdown",
   "metadata": {},
   "source": [
    "## Dataset 2\n",
    "Instancias de peor caso de backtracking, deben recorrer todo el árbol y todas las ramas.\n",
    "```\n",
    "Para todo elemento i, r[i] > R, y w[i] = 1.\n",
    "```"
   ]
  },
  {
   "cell_type": "code",
   "execution_count": 8,
   "metadata": {},
   "outputs": [],
   "source": [
    "filas_indice = []\n",
    "for n in range(1, 31):\n",
    "    R = n\n",
    "    r = [R+1 for i in range(0, n)]\n",
    "    w = [1 for i in range(0, n)]\n",
    "    save_instance(\"peor-caso-bt\", F\"BT-PC-{n}\", R, w, r)\n",
    "    filas_indice.append([\"peor-caso-bt\", F\"BT-PC-{n}\", n, R, F\"instancias/peor-caso-bt/BT-PC-{n}.txt\"])\n",
    "pd.DataFrame(filas_indice, columns=[\"dataset\", \"instancia\", \"n\", \"R\", \"archivo\"]).to_csv(\"instancias/peor-caso-bt/indice.csv\", index=False, header=True)"
   ]
  },
  {
   "cell_type": "markdown",
   "metadata": {},
   "source": [
    "## Dataset 3\n",
    "Instancias con densidad alta:\n",
    "```\n",
    "S = { 1, ..., n } con W = n/2\n",
    "```"
   ]
  },
  {
   "cell_type": "code",
   "execution_count": 12,
   "metadata": {},
   "outputs": [],
   "source": [
    "filas_indice = []\n",
    "for n in range(1, 201):\n",
    "    W = math.floor(n/2)\n",
    "    S = [0 for i in range(0, n)]\n",
    "    for i in range(0, n): S[i] = i+1\n",
    "    random.shuffle(S)\n",
    "    save_instance(\"densidad-alta\", F\"ALTA-{n}\", S, W)\n",
    "    filas_indice.append([\"densidad-alta\", F\"ALTA-{n}\", n, W, F\"instancias/densidad-alta/ALTA-{n}.txt\"])\n",
    "pd.DataFrame(filas_indice, columns=[\"dataset\", \"instancia\", \"n\", \"W\", \"archivo\"]).to_csv(\"instancias/densidad-alta/indice.csv\", index=False, header=True)"
   ]
  },
  {
   "cell_type": "markdown",
   "metadata": {},
   "source": [
    "## Dataset 4\n",
    "Instancias con densidad baja:\n",
    "```\n",
    "S = { 1, ..., n } con W = n/2  \n",
    "```"
   ]
  },
  {
   "cell_type": "code",
   "execution_count": 13,
   "metadata": {},
   "outputs": [],
   "source": [
    "filas_indice = []\n",
    "for n in range(1, 201):\n",
    "    W = max(1, math.floor(n * (n-1) / 4))\n",
    "    S = [0 for i in range(0, n)]\n",
    "    for i in range(0, n): S[i] = i+1\n",
    "    random.shuffle(S)\n",
    "    save_instance(\"densidad-baja\", F\"BAJA-{n}\", S, W)\n",
    "    filas_indice.append([\"densidad-baja\", F\"BAJA-{n}\", n, W, F\"instancias/densidad-baja/BAJA-{n}.txt\"])\n",
    "pd.DataFrame(filas_indice, columns=[\"dataset\", \"instancia\", \"n\", \"W\", \"archivo\"]).to_csv(\"instancias/densidad-baja/indice.csv\", index=False, header=True)"
   ]
  },
  {
   "cell_type": "markdown",
   "metadata": {},
   "source": [
    "# Dataset 5\n",
    "Instancias variando n y W con densidad baja."
   ]
  },
  {
   "cell_type": "code",
   "execution_count": 14,
   "metadata": {},
   "outputs": [],
   "source": [
    "filas_indice = []\n",
    "for n in range(1000, 8000, 500):\n",
    "    for W in range(1000, 8000, 500):\n",
    "        S = [1 for i in range(0, n)]\n",
    "        save_instance(\"dinamica\", F\"DP-{n}-{W}\", S, W)\n",
    "        filas_indice.append([\"dinamica\", F\"DP-{n}-{W}\", n, W, F\"instancias/dinamica/DP-{n}-{W}.txt\"])\n",
    "pd.DataFrame(filas_indice, columns=[\"dataset\", \"instancia\", \"n\", \"W\", \"archivo\"]).to_csv(\"instancias/dinamica/indice.csv\", index=False, header=True)"
   ]
  }
 ],
 "metadata": {
  "kernelspec": {
   "display_name": "Python 3",
   "language": "python",
   "name": "python3"
  },
  "language_info": {
   "codemirror_mode": {
    "name": "ipython",
    "version": 3
   },
   "file_extension": ".py",
   "mimetype": "text/x-python",
   "name": "python",
   "nbconvert_exporter": "python",
   "pygments_lexer": "ipython3",
   "version": "3.7.5"
  }
 },
 "nbformat": 4,
 "nbformat_minor": 4
}
