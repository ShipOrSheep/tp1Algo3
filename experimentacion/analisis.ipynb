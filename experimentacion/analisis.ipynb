{
 "cells": [
  {
   "cell_type": "code",
   "execution_count": 2,
   "metadata": {
    "scrolled": true
   },
   "outputs": [],
   "source": [
    "import numpy as np\n",
    "import pandas as pd\n",
    "import seaborn as sns\n",
    "import matplotlib.pyplot as plt"
   ]
  },
  {
   "cell_type": "code",
   "execution_count": 3,
   "metadata": {},
   "outputs": [],
   "source": [
    "def correlacion_pearson(data_frame, columna1, columna2):\n",
    "    return np.corrcoef(data_frame[columna1], data_frame[columna2])[0,1];"
   ]
  },
  {
   "cell_type": "markdown",
   "metadata": {},
   "source": [
    "# Experimentos del TP\n",
    "En esta carpeta de Jupyer vamos a poner lo relativo a realizar la experimentación computacional.\n",
    "- **Asegurarse de correr los experimentos en el notebook Experimentos antes de utilizar este notebook.**\n",
    "- En este archivo se lee el output de los experimentos y se muestra de manera gráfica esos resultados."
   ]
  },
  {
   "cell_type": "markdown",
   "metadata": {},
   "source": [
    "# Datasets\n",
    "Para los experimentos se crean las siguientes familias de instancias para evaluar los distintos métodos.\n",
    "1. **densidad-alta**: Son instancias con n = 1..200 y con densidad alta, es decir, el k óptimo encontrado es alto en relación a la cantidad de elementos totales.\n",
    "2. **densidad-baja**: Son instancias con n = 1..200 y con densidad baja, o sea, el k óptimo encontrado es bajo en relacion a la cantidad de elementos totales.\n",
    "3. **mejor-caso-BT**: Instancias de mejor caso para el algoritmo de BT con podas.\n",
    "4. **peor-caso-BT**: Instancias de peor caso para el algoritmo de BT con podas.\n",
    "5. **dinamica**: Instancias con n y R variando para probar el algoritmo de PD."
   ]
  },
  {
   "cell_type": "markdown",
   "metadata": {},
   "source": [
    "# Métodos\n",
    "Los métodos evaluados en este notebook son los siguientes:\n",
    "- **FB**: Fuerza Bruta.\n",
    "- **BT**: Backtracking con podas por optimalidad y factibilidad.\n",
    "- **BT-F**: Backtracking solamente con poda por factibilidad.\n",
    "- **BT-B**: Backtracking solamente con poda por optimalidad.\n",
    "- **DP**: Programación dinámica."
   ]
  },
  {
   "cell_type": "markdown",
   "metadata": {},
   "source": [
    "# Experimentos\n",
    "Leemos el dataframe con todos los resultados."
   ]
  },
  {
   "cell_type": "code",
   "execution_count": 4,
   "metadata": {},
   "outputs": [
    {
     "ename": "FileNotFoundError",
     "evalue": "[Errno 2] File resultados/resultado.csv does not exist: 'resultados/resultado.csv'",
     "output_type": "error",
     "traceback": [
      "\u001b[0;31m---------------------------------------------------------------------------\u001b[0m",
      "\u001b[0;31mFileNotFoundError\u001b[0m                         Traceback (most recent call last)",
      "\u001b[0;32m<ipython-input-4-5a8066e1d212>\u001b[0m in \u001b[0;36m<module>\u001b[0;34m()\u001b[0m\n\u001b[0;32m----> 1\u001b[0;31m \u001b[0mdf_resultados\u001b[0m \u001b[0;34m=\u001b[0m \u001b[0mpd\u001b[0m\u001b[0;34m.\u001b[0m\u001b[0mread_csv\u001b[0m\u001b[0;34m(\u001b[0m\u001b[0;34m\"resultados/resultado.csv\"\u001b[0m\u001b[0;34m)\u001b[0m\u001b[0;34m;\u001b[0m\u001b[0;34m\u001b[0m\u001b[0;34m\u001b[0m\u001b[0m\n\u001b[0m\u001b[1;32m      2\u001b[0m \u001b[0mdf_resultados\u001b[0m\u001b[0;34m.\u001b[0m\u001b[0mhead\u001b[0m\u001b[0;34m(\u001b[0m\u001b[0;34m)\u001b[0m\u001b[0;34m\u001b[0m\u001b[0;34m\u001b[0m\u001b[0m\n",
      "\u001b[0;32m/home/mrj/.local/lib/python3.6/site-packages/pandas/io/parsers.py\u001b[0m in \u001b[0;36mparser_f\u001b[0;34m(filepath_or_buffer, sep, delimiter, header, names, index_col, usecols, squeeze, prefix, mangle_dupe_cols, dtype, engine, converters, true_values, false_values, skipinitialspace, skiprows, skipfooter, nrows, na_values, keep_default_na, na_filter, verbose, skip_blank_lines, parse_dates, infer_datetime_format, keep_date_col, date_parser, dayfirst, cache_dates, iterator, chunksize, compression, thousands, decimal, lineterminator, quotechar, quoting, doublequote, escapechar, comment, encoding, dialect, error_bad_lines, warn_bad_lines, delim_whitespace, low_memory, memory_map, float_precision)\u001b[0m\n\u001b[1;32m    674\u001b[0m         )\n\u001b[1;32m    675\u001b[0m \u001b[0;34m\u001b[0m\u001b[0m\n\u001b[0;32m--> 676\u001b[0;31m         \u001b[0;32mreturn\u001b[0m \u001b[0m_read\u001b[0m\u001b[0;34m(\u001b[0m\u001b[0mfilepath_or_buffer\u001b[0m\u001b[0;34m,\u001b[0m \u001b[0mkwds\u001b[0m\u001b[0;34m)\u001b[0m\u001b[0;34m\u001b[0m\u001b[0;34m\u001b[0m\u001b[0m\n\u001b[0m\u001b[1;32m    677\u001b[0m \u001b[0;34m\u001b[0m\u001b[0m\n\u001b[1;32m    678\u001b[0m     \u001b[0mparser_f\u001b[0m\u001b[0;34m.\u001b[0m\u001b[0m__name__\u001b[0m \u001b[0;34m=\u001b[0m \u001b[0mname\u001b[0m\u001b[0;34m\u001b[0m\u001b[0;34m\u001b[0m\u001b[0m\n",
      "\u001b[0;32m/home/mrj/.local/lib/python3.6/site-packages/pandas/io/parsers.py\u001b[0m in \u001b[0;36m_read\u001b[0;34m(filepath_or_buffer, kwds)\u001b[0m\n\u001b[1;32m    446\u001b[0m \u001b[0;34m\u001b[0m\u001b[0m\n\u001b[1;32m    447\u001b[0m     \u001b[0;31m# Create the parser.\u001b[0m\u001b[0;34m\u001b[0m\u001b[0;34m\u001b[0m\u001b[0;34m\u001b[0m\u001b[0m\n\u001b[0;32m--> 448\u001b[0;31m     \u001b[0mparser\u001b[0m \u001b[0;34m=\u001b[0m \u001b[0mTextFileReader\u001b[0m\u001b[0;34m(\u001b[0m\u001b[0mfp_or_buf\u001b[0m\u001b[0;34m,\u001b[0m \u001b[0;34m**\u001b[0m\u001b[0mkwds\u001b[0m\u001b[0;34m)\u001b[0m\u001b[0;34m\u001b[0m\u001b[0;34m\u001b[0m\u001b[0m\n\u001b[0m\u001b[1;32m    449\u001b[0m \u001b[0;34m\u001b[0m\u001b[0m\n\u001b[1;32m    450\u001b[0m     \u001b[0;32mif\u001b[0m \u001b[0mchunksize\u001b[0m \u001b[0;32mor\u001b[0m \u001b[0miterator\u001b[0m\u001b[0;34m:\u001b[0m\u001b[0;34m\u001b[0m\u001b[0;34m\u001b[0m\u001b[0m\n",
      "\u001b[0;32m/home/mrj/.local/lib/python3.6/site-packages/pandas/io/parsers.py\u001b[0m in \u001b[0;36m__init__\u001b[0;34m(self, f, engine, **kwds)\u001b[0m\n\u001b[1;32m    878\u001b[0m             \u001b[0mself\u001b[0m\u001b[0;34m.\u001b[0m\u001b[0moptions\u001b[0m\u001b[0;34m[\u001b[0m\u001b[0;34m\"has_index_names\"\u001b[0m\u001b[0;34m]\u001b[0m \u001b[0;34m=\u001b[0m \u001b[0mkwds\u001b[0m\u001b[0;34m[\u001b[0m\u001b[0;34m\"has_index_names\"\u001b[0m\u001b[0;34m]\u001b[0m\u001b[0;34m\u001b[0m\u001b[0;34m\u001b[0m\u001b[0m\n\u001b[1;32m    879\u001b[0m \u001b[0;34m\u001b[0m\u001b[0m\n\u001b[0;32m--> 880\u001b[0;31m         \u001b[0mself\u001b[0m\u001b[0;34m.\u001b[0m\u001b[0m_make_engine\u001b[0m\u001b[0;34m(\u001b[0m\u001b[0mself\u001b[0m\u001b[0;34m.\u001b[0m\u001b[0mengine\u001b[0m\u001b[0;34m)\u001b[0m\u001b[0;34m\u001b[0m\u001b[0;34m\u001b[0m\u001b[0m\n\u001b[0m\u001b[1;32m    881\u001b[0m \u001b[0;34m\u001b[0m\u001b[0m\n\u001b[1;32m    882\u001b[0m     \u001b[0;32mdef\u001b[0m \u001b[0mclose\u001b[0m\u001b[0;34m(\u001b[0m\u001b[0mself\u001b[0m\u001b[0;34m)\u001b[0m\u001b[0;34m:\u001b[0m\u001b[0;34m\u001b[0m\u001b[0;34m\u001b[0m\u001b[0m\n",
      "\u001b[0;32m/home/mrj/.local/lib/python3.6/site-packages/pandas/io/parsers.py\u001b[0m in \u001b[0;36m_make_engine\u001b[0;34m(self, engine)\u001b[0m\n\u001b[1;32m   1112\u001b[0m     \u001b[0;32mdef\u001b[0m \u001b[0m_make_engine\u001b[0m\u001b[0;34m(\u001b[0m\u001b[0mself\u001b[0m\u001b[0;34m,\u001b[0m \u001b[0mengine\u001b[0m\u001b[0;34m=\u001b[0m\u001b[0;34m\"c\"\u001b[0m\u001b[0;34m)\u001b[0m\u001b[0;34m:\u001b[0m\u001b[0;34m\u001b[0m\u001b[0;34m\u001b[0m\u001b[0m\n\u001b[1;32m   1113\u001b[0m         \u001b[0;32mif\u001b[0m \u001b[0mengine\u001b[0m \u001b[0;34m==\u001b[0m \u001b[0;34m\"c\"\u001b[0m\u001b[0;34m:\u001b[0m\u001b[0;34m\u001b[0m\u001b[0;34m\u001b[0m\u001b[0m\n\u001b[0;32m-> 1114\u001b[0;31m             \u001b[0mself\u001b[0m\u001b[0;34m.\u001b[0m\u001b[0m_engine\u001b[0m \u001b[0;34m=\u001b[0m \u001b[0mCParserWrapper\u001b[0m\u001b[0;34m(\u001b[0m\u001b[0mself\u001b[0m\u001b[0;34m.\u001b[0m\u001b[0mf\u001b[0m\u001b[0;34m,\u001b[0m \u001b[0;34m**\u001b[0m\u001b[0mself\u001b[0m\u001b[0;34m.\u001b[0m\u001b[0moptions\u001b[0m\u001b[0;34m)\u001b[0m\u001b[0;34m\u001b[0m\u001b[0;34m\u001b[0m\u001b[0m\n\u001b[0m\u001b[1;32m   1115\u001b[0m         \u001b[0;32melse\u001b[0m\u001b[0;34m:\u001b[0m\u001b[0;34m\u001b[0m\u001b[0;34m\u001b[0m\u001b[0m\n\u001b[1;32m   1116\u001b[0m             \u001b[0;32mif\u001b[0m \u001b[0mengine\u001b[0m \u001b[0;34m==\u001b[0m \u001b[0;34m\"python\"\u001b[0m\u001b[0;34m:\u001b[0m\u001b[0;34m\u001b[0m\u001b[0;34m\u001b[0m\u001b[0m\n",
      "\u001b[0;32m/home/mrj/.local/lib/python3.6/site-packages/pandas/io/parsers.py\u001b[0m in \u001b[0;36m__init__\u001b[0;34m(self, src, **kwds)\u001b[0m\n\u001b[1;32m   1889\u001b[0m         \u001b[0mkwds\u001b[0m\u001b[0;34m[\u001b[0m\u001b[0;34m\"usecols\"\u001b[0m\u001b[0;34m]\u001b[0m \u001b[0;34m=\u001b[0m \u001b[0mself\u001b[0m\u001b[0;34m.\u001b[0m\u001b[0musecols\u001b[0m\u001b[0;34m\u001b[0m\u001b[0;34m\u001b[0m\u001b[0m\n\u001b[1;32m   1890\u001b[0m \u001b[0;34m\u001b[0m\u001b[0m\n\u001b[0;32m-> 1891\u001b[0;31m         \u001b[0mself\u001b[0m\u001b[0;34m.\u001b[0m\u001b[0m_reader\u001b[0m \u001b[0;34m=\u001b[0m \u001b[0mparsers\u001b[0m\u001b[0;34m.\u001b[0m\u001b[0mTextReader\u001b[0m\u001b[0;34m(\u001b[0m\u001b[0msrc\u001b[0m\u001b[0;34m,\u001b[0m \u001b[0;34m**\u001b[0m\u001b[0mkwds\u001b[0m\u001b[0;34m)\u001b[0m\u001b[0;34m\u001b[0m\u001b[0;34m\u001b[0m\u001b[0m\n\u001b[0m\u001b[1;32m   1892\u001b[0m         \u001b[0mself\u001b[0m\u001b[0;34m.\u001b[0m\u001b[0munnamed_cols\u001b[0m \u001b[0;34m=\u001b[0m \u001b[0mself\u001b[0m\u001b[0;34m.\u001b[0m\u001b[0m_reader\u001b[0m\u001b[0;34m.\u001b[0m\u001b[0munnamed_cols\u001b[0m\u001b[0;34m\u001b[0m\u001b[0;34m\u001b[0m\u001b[0m\n\u001b[1;32m   1893\u001b[0m \u001b[0;34m\u001b[0m\u001b[0m\n",
      "\u001b[0;32mpandas/_libs/parsers.pyx\u001b[0m in \u001b[0;36mpandas._libs.parsers.TextReader.__cinit__\u001b[0;34m()\u001b[0m\n",
      "\u001b[0;32mpandas/_libs/parsers.pyx\u001b[0m in \u001b[0;36mpandas._libs.parsers.TextReader._setup_parser_source\u001b[0;34m()\u001b[0m\n",
      "\u001b[0;31mFileNotFoundError\u001b[0m: [Errno 2] File resultados/resultado.csv does not exist: 'resultados/resultado.csv'"
     ]
    }
   ],
   "source": [
    "df_resultados = pd.read_csv(\"resultados/resultado.csv\");\n",
    "df_resultados.head()"
   ]
  },
  {
   "cell_type": "markdown",
   "metadata": {},
   "source": [
    "## Experimento 1: Complejidad de Fuerza Bruta\n",
    "En este experimento evaluamos el método FB con los datasets densidad-alta y densidad-baja. La hipótesis es que siempre va a tener un comportamiento exponencial porque tiene peor y mejor caso iguales."
   ]
  },
  {
   "cell_type": "code",
   "execution_count": null,
   "metadata": {},
   "outputs": [],
   "source": [
    "# Graficamos los tiempos de ejecución de cada dataset en función de n.\n",
    "df_complejidad_FB = df_resultados[df_resultados[\"metodo\"]==\"FB\"].copy();\n",
    "fig = sns.scatterplot(data=df_complejidad_FB, x='n', y='tiempo', hue='dataset');\n",
    "fig.set(xlabel='n', ylabel='tiempo (ms)');\n",
    "plt.savefig(\"graficos/fb-densidades.svg\");"
   ]
  },
  {
   "cell_type": "code",
   "execution_count": null,
   "metadata": {},
   "outputs": [],
   "source": [
    "# Comparamos el dataset densidad-alta contra una función exponencial.\n",
    "df_complejidad_FB = df_resultados[(df_resultados[\"metodo\"]==\"FB\") & (df_resultados[\"dataset\"]==\"densidad-alta\")].copy();\n",
    "df_complejidad_FB[\"tiempo_esperado\"] = 2.0 ** df_complejidad_FB[\"n\"] * 0.000015; # Exponencial\n",
    "fig = sns.scatterplot(data=df_complejidad_FB, x='n', y='tiempo');\n",
    "fig = sns.lineplot(data=df_complejidad_FB, x='n', y='tiempo_esperado', color=\"orange\");\n",
    "fig.legend(labels=['O(2^n)','FB']);\n",
    "fig.set(xlabel='n', ylabel='tiempo (ms)');\n",
    "plt.savefig(\"graficos/fb-complejidad.svg\")"
   ]
  },
  {
   "cell_type": "code",
   "execution_count": null,
   "metadata": {},
   "outputs": [],
   "source": [
    "# Graficamos los tiempos de ejecución de la serie de instancias X1, ..., Xn vs la complejidad esperada.\n",
    "df_complejidad_FB = df_resultados[(df_resultados[\"metodo\"]==\"FB\") & (df_resultados[\"dataset\"]==\"densidad-alta\")].copy();\n",
    "df_complejidad_FB[\"complejidad\"] = 2.0 ** df_complejidad_FB[\"n\"];\n",
    "fig = sns.lmplot(data=df_complejidad_FB, x=\"tiempo\", y=\"complejidad\");\n",
    "plt.savefig(\"graficos/fb-correlacion.svg\");\n",
    "print(\"Índice de correlación de Pearson:\", correlacion_pearson(df_complejidad_FB, \"tiempo\", \"complejidad\"));"
   ]
  },
  {
   "cell_type": "markdown",
   "metadata": {},
   "source": [
    "## Experimento 2: Complejidad de Backtracking\n",
    "En este experimento evaluamos el método BT con los datasets mejor-caso-bt y peor-caso-bt. La hipótesis es que va a tener un comportamiento exponencial en el peor caso y lineal en el mejor caso."
   ]
  },
  {
   "cell_type": "code",
   "execution_count": null,
   "metadata": {},
   "outputs": [],
   "source": [
    "df_BT_mejor_caso = df_resultados[(df_resultados[\"metodo\"]==\"BT\") & (df_resultados[\"dataset\"] == \"mejor-caso-BT\")].copy();\n",
    "df_BT_mejor_caso[\"tiempo_esperado\"] = df_BT_mejor_caso[\"n\"] * 0.0005; # Lineal\n",
    "fig = sns.scatterplot(data=df_BT_mejor_caso, x='n', y='tiempo');\n",
    "fig = sns.lineplot(data=df_BT_mejor_caso, x='n', y='tiempo_esperado', color=\"orange\");\n",
    "fig.legend(labels=['O(n)','BT']);\n",
    "fig.set(xlabel='n', ylabel='tiempo (ms)');\n",
    "plt.savefig(\"graficos/bt-complejidad-mejor-caso.svg\");"
   ]
  },
  {
   "cell_type": "code",
   "execution_count": null,
   "metadata": {},
   "outputs": [],
   "source": [
    "# Graficamos los tiempos de ejecución de la serie de instancias X1, ..., Xn vs la complejidad esperada.\n",
    "df_BT_mejor_caso = df_resultados[(df_resultados[\"metodo\"]==\"BT\") & (df_resultados[\"dataset\"] == \"mejor-caso-BT\")].copy();\n",
    "df_BT_mejor_caso[\"complejidad\"] = df_BT_mejor_caso[\"n\"];\n",
    "fig = sns.lmplot(data=df_BT_mejor_caso, x=\"tiempo\", y=\"complejidad\");\n",
    "plt.savefig(\"graficos/bt-correlacion-mejor-caso.svg\");\n",
    "print(\"Índice de correlación de Pearson:\", correlacion_pearson(df_BT_mejor_caso, \"tiempo\", \"complejidad\"));"
   ]
  },
  {
   "cell_type": "code",
   "execution_count": null,
   "metadata": {},
   "outputs": [],
   "source": [
    "df_BT_peor_caso = df_resultados[(df_resultados[\"metodo\"]==\"BT\") & (df_resultados[\"dataset\"] == \"peor-caso-BT\")].copy();\n",
    "df_BT_peor_caso[\"tiempo_esperado\"] = 2 ** df_BT_peor_caso[\"n\"] * 0.000015; # Exponencial.\n",
    "fig = sns.scatterplot(data=df_BT_peor_caso, x='n', y='tiempo');\n",
    "fig = sns.lineplot(data=df_BT_peor_caso, x='n', y='tiempo_esperado', color=\"orange\");\n",
    "fig.legend(labels=['O(2^n)','BT']);\n",
    "fig.set(xlabel='n', ylabel='tiempo (ms)');\n",
    "plt.savefig(\"graficos/bt-complejidad-peor-caso.svg\");"
   ]
  },
  {
   "cell_type": "code",
   "execution_count": null,
   "metadata": {},
   "outputs": [],
   "source": [
    "# Graficamos los tiempos de ejecución de la serie de instancias X1, ..., Xn vs la complejidad esperada.\n",
    "df_BT_peor_caso = df_resultados[(df_resultados[\"metodo\"]==\"BT\") & (df_resultados[\"dataset\"] == \"peor-caso-BT\")].copy();\n",
    "df_BT_peor_caso[\"complejidad\"] = 2.0 ** df_BT_peor_caso[\"n\"];\n",
    "fig = sns.lmplot(data=df_BT_peor_caso, x=\"tiempo\", y=\"complejidad\");\n",
    "plt.savefig(\"graficos/bt-correlacion-peor-caso.svg\");\n",
    "print(\"Índice de correlación de Pearson:\", correlacion_pearson(df_BT_peor_caso, \"tiempo\", \"complejidad\"));"
   ]
  },
  {
   "cell_type": "markdown",
   "metadata": {},
   "source": [
    "## Experimento 3: Análisis de las podas\n",
    "Analizar Backtracking con y sin las podas para distintas densidades."
   ]
  },
  {
   "cell_type": "code",
   "execution_count": null,
   "metadata": {},
   "outputs": [],
   "source": [
    "df_BT_densidad_alta = df_resultados[((df_resultados[\"metodo\"]==\"BT\") | (df_resultados[\"metodo\"]==\"BT-F\") | (df_resultados[\"metodo\"]==\"BT-O\")) & (df_resultados[\"dataset\"] == \"densidad-alta\")].copy();\n",
    "df_BT_densidad_alta = df_BT_densidad_alta[df_BT_densidad_alta[\"tiempo\"] < 2000]; # Sacamos outliers.\n",
    "fig = sns.scatterplot(data=df_BT_densidad_alta, x='n', y='tiempo', hue='metodo');\n",
    "fig.set(xlabel='n', ylabel='tiempo (ms)');\n",
    "plt.savefig(\"graficos/bt-podas-alta.svg\");"
   ]
  },
  {
   "cell_type": "code",
   "execution_count": null,
   "metadata": {},
   "outputs": [],
   "source": [
    "# Acercamos un poco la lupa para ver la diferencia entre BT y BT-O.\n",
    "fig = sns.scatterplot(data=df_BT_densidad_alta[df_BT_densidad_alta[\"tiempo\"]<1], x='n', y='tiempo', hue='metodo');\n",
    "fig.set(xlabel='n', ylabel='tiempo (ms)');\n",
    "plt.savefig(\"graficos/bt-podas-alta-zoom.svg\");"
   ]
  },
  {
   "cell_type": "code",
   "execution_count": null,
   "metadata": {},
   "outputs": [],
   "source": [
    "df_BT_densidad_baja = df_resultados[((df_resultados[\"metodo\"]==\"BT\") | (df_resultados[\"metodo\"]==\"BT-F\") | (df_resultados[\"metodo\"]==\"BT-O\")) & (df_resultados[\"dataset\"] == \"densidad-baja\")].copy();\n",
    "fig = sns.scatterplot(data=df_BT_densidad_baja, x='n', y='tiempo', hue='metodo');\n",
    "fig.set(xlabel='n', ylabel='tiempo (ms)');\n",
    "plt.savefig(\"graficos/bt-podas-baja.svg\");"
   ]
  },
  {
   "cell_type": "code",
   "execution_count": null,
   "metadata": {},
   "outputs": [],
   "source": [
    "# Acercamos un poco la lupa para ver la diferencia entre BT y BT-O.\n",
    "fig = sns.scatterplot(data=df_BT_densidad_baja[df_BT_densidad_baja[\"tiempo\"]<400], x='n', y='tiempo', hue='metodo');\n",
    "fig.set(xlabel='n', ylabel='tiempo (ms)');\n",
    "plt.savefig(\"graficos/bt-podas-baja-zoom.svg\");"
   ]
  },
  {
   "cell_type": "markdown",
   "metadata": {},
   "source": [
    "# Experimento 4: Complejidad de programación dinámica\n",
    "En este experimento analizamos el tiempo de ejecución real del algoritmo de programación dinámica y lo comparamos con su cota teórica para ver si en la práctica se comporta de manera similar."
   ]
  },
  {
   "cell_type": "code",
   "execution_count": null,
   "metadata": {},
   "outputs": [],
   "source": [
    "# Graficamos la evolución del tiempo de ejecución en función de n, con cortes en distintos W.\n",
    "df_dinamica = df_resultados[(df_resultados[\"metodo\"]==\"DP\") & (df_resultados[\"dataset\"]==\"dinamica\")].copy();\n",
    "fig = sns.scatterplot(data=df_dinamica[df_dinamica[\"R\"]==1000], x='n', y='tiempo');\n",
    "fig = sns.scatterplot(data=df_dinamica[df_dinamica[\"R\"]==3000], x='n', y='tiempo');\n",
    "fig = sns.scatterplot(data=df_dinamica[df_dinamica[\"R\"]==5000], x='n', y='tiempo');\n",
    "fig = sns.scatterplot(data=df_dinamica[df_dinamica[\"R\"]==7000], x='n', y='tiempo');\n",
    "fig.legend(labels=['R=1000','R=3000','R=5000','R=7000']);\n",
    "fig.set(xlabel='n', ylabel='tiempo (ms)');\n",
    "plt.savefig(\"graficos/dp-n.svg\");"
   ]
  },
  {
   "cell_type": "code",
   "execution_count": null,
   "metadata": {},
   "outputs": [],
   "source": [
    "# Graficamos la evolución del tiempo de ejecución en función de W, con cortes en distintos n.\n",
    "df_dinamica = df_resultados[(df_resultados[\"metodo\"]==\"DP\") & (df_resultados[\"dataset\"]==\"dinamica\")].copy();\n",
    "fig = sns.scatterplot(data=df_dinamica[df_dinamica[\"n\"]==1000], x='R', y='tiempo');\n",
    "fig = sns.scatterplot(data=df_dinamica[df_dinamica[\"n\"]==3000], x='R', y='tiempo');\n",
    "fig = sns.scatterplot(data=df_dinamica[df_dinamica[\"n\"]==5000], x='R', y='tiempo');\n",
    "fig = sns.scatterplot(data=df_dinamica[df_dinamica[\"n\"]==7000], x='R', y='tiempo');\n",
    "fig.legend(labels=['n=1000','n=3000','n=5000','n=7000']);\n",
    "fig.set(xlabel='R', ylabel='tiempo (ms)');\n",
    "plt.savefig(\"graficos/dp-R.svg\");"
   ]
  },
  {
   "cell_type": "code",
   "execution_count": null,
   "metadata": {},
   "outputs": [],
   "source": [
    "# Graficamos el tiempo de ejecución de las distintas instancias ordenadas por n y W.\n",
    "df_dinamica = df_resultados[(df_resultados[\"metodo\"]==\"DP\") & (df_resultados[\"dataset\"]==\"dinamica\")].copy();\n",
    "df_heatmap = df_dinamica.pivot_table(index='n', columns='R', values='tiempo', aggfunc=np.mean);\n",
    "fig = sns.heatmap(df_heatmap);\n",
    "fig.invert_yaxis();\n",
    "plt.savefig(\"graficos/dp-heatmap.svg\");"
   ]
  },
  {
   "cell_type": "code",
   "execution_count": null,
   "metadata": {},
   "outputs": [],
   "source": [
    "# Graficamos los tiempos de ejecución de la serie de instancias X1, ..., Xn vs la complejidad esperada.\n",
    "df_dinamica = df_resultados[(df_resultados[\"metodo\"]==\"DP\") & (df_resultados[\"dataset\"]==\"dinamica\")].copy();\n",
    "df_dinamica[\"complejidad\"] = df_dinamica[\"n\"] * df_dinamica[\"R\"];\n",
    "fig = sns.scatterplot(data=df_dinamica, x=\"tiempo\", y=\"complejidad\");\n",
    "plt.savefig(\"graficos/dp-correlacion.svg\");\n",
    "print(\"Índice de correlación de Pearson:\", correlacion_pearson(df_dinamica, \"tiempo\", \"complejidad\"));"
   ]
  },
  {
   "cell_type": "markdown",
   "metadata": {},
   "source": [
    "## Experimento 5: Comparación Backtacking y Programación Dinámica\n",
    "En este experimento se trata de buscar para qué casos funciona mejor cada técnica. Por ejemplo, vamos a ejecutar BT y Dinámica sobre los datasets densidad-alta y densidad-baja."
   ]
  },
  {
   "cell_type": "code",
   "execution_count": null,
   "metadata": {},
   "outputs": [],
   "source": [
    "df_densidad_alta = df_resultados[((df_resultados[\"metodo\"]==\"BT\") | (df_resultados[\"metodo\"]==\"DP\")) & (df_resultados[\"dataset\"] == \"densidad-alta\")].copy();\n",
    "fig = sns.scatterplot(data=df_densidad_alta, x='n', y='tiempo', hue='metodo');\n",
    "fig.set(xlabel='n', ylabel='tiempo (ms)');\n",
    "plt.savefig(\"graficos/comparacion-bt-dp-alta.svg\");"
   ]
  },
  {
   "cell_type": "code",
   "execution_count": null,
   "metadata": {},
   "outputs": [],
   "source": [
    "df_densidad_baja = df_resultados[((df_resultados[\"metodo\"]==\"BT\") | (df_resultados[\"metodo\"]==\"DP\")) & (df_resultados[\"dataset\"] == \"densidad-baja\")].copy();\n",
    "df_densidad_baja = df_densidad_baja[df_densidad_baja[\"n\"]<=30];\n",
    "fig = sns.scatterplot(data=df_densidad_baja, x='n', y='tiempo', hue='metodo');\n",
    "fig.set(xlabel='n', ylabel='tiempo (ms)');\n",
    "plt.savefig(\"graficos/comparacion-bt-dp-baja.svg\");"
   ]
  },
  {
   "cell_type": "code",
   "execution_count": null,
   "metadata": {},
   "outputs": [],
   "source": []
  },
  {
   "cell_type": "code",
   "execution_count": null,
   "metadata": {},
   "outputs": [],
   "source": []
  },
  {
   "cell_type": "code",
   "execution_count": null,
   "metadata": {},
   "outputs": [],
   "source": []
  }
 ],
 "metadata": {
  "kernelspec": {
   "display_name": "Python 3",
   "language": "python",
   "name": "python3"
  },
  "language_info": {
   "codemirror_mode": {
    "name": "ipython",
    "version": 3
   },
   "file_extension": ".py",
   "mimetype": "text/x-python",
   "name": "python",
   "nbconvert_exporter": "python",
   "pygments_lexer": "ipython3",
   "version": "3.6.9"
  }
 },
 "nbformat": 4,
 "nbformat_minor": 4
}
